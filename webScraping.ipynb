{
 "cells": [
  {
   "cell_type": "code",
   "execution_count": 1,
   "id": "0caf9497",
   "metadata": {},
   "outputs": [],
   "source": [
    "import pandas as pd\n",
    "\n",
    "import requests\n",
    "\n",
    "from bs4 import BeautifulSoup"
   ]
  },
  {
   "cell_type": "code",
   "execution_count": 2,
   "id": "7295d72f",
   "metadata": {},
   "outputs": [],
   "source": [
    "search_query=\"Android+mobiles\"\n",
    "\n",
    "base_url=\"https://www.walmart.com/search?q=\"\n",
    "\n",
    "url=base_url+search_query\n",
    "#url"
   ]
  },
  {
   "cell_type": "code",
   "execution_count": 3,
   "id": "053aa350",
   "metadata": {},
   "outputs": [],
   "source": [
    "header={'User-Agent':'Mozilla/5.0 (Windows NT 10.0; Win64; x64) AppleWebKit/537.36 (KHTML, like Gecko) Chrome/115.0.0.0 Safari/537.36','referer':'https://www.walmart.com/search?q=Android+mobiles'}"
   ]
  },
  {
   "cell_type": "code",
   "execution_count": 4,
   "id": "927c2392",
   "metadata": {},
   "outputs": [],
   "source": [
    "search_response=requests.get(url,headers=header)"
   ]
  },
  {
   "cell_type": "code",
   "execution_count": null,
   "id": "784aec06",
   "metadata": {},
   "outputs": [],
   "source": [
    "search_response.status_code\n"
   ]
  },
  {
   "cell_type": "code",
   "execution_count": null,
   "id": "5d09d54f",
   "metadata": {},
   "outputs": [],
   "source": [
    "search_response.text"
   ]
  },
  {
   "cell_type": "code",
   "execution_count": null,
   "id": "3442c13c",
   "metadata": {},
   "outputs": [],
   "source": [
    "search_response.cookies"
   ]
  },
  {
   "cell_type": "code",
   "execution_count": 8,
   "id": "2b66433f",
   "metadata": {},
   "outputs": [],
   "source": [
    "cookie={}\n",
    "def getWalmartSearch(search_query):#url of prod\n",
    "    url=\"https://www.walmart.com/search?q=\"+search_query\n",
    "    print(url)\n",
    "    page=requests.get(url,headers=header)\n",
    "    if page.status_code==200:\n",
    "        return page\n",
    "    else:\n",
    "        return \"Error\"\n",
    "\n",
    "    "
   ]
  },
  {
   "cell_type": "code",
   "execution_count": null,
   "id": "2c9ea501",
   "metadata": {},
   "outputs": [],
   "source": []
  },
  {
   "cell_type": "code",
   "execution_count": 9,
   "id": "0236aa4c",
   "metadata": {},
   "outputs": [],
   "source": [
    "#def Searchasin(asin):\n",
    "    #url=\"https://www.walmart.com/dp/\"+asin\n",
    "    #print(url)\n",
    "    #page=requests.get(url,cookies=cookie,headers=header)\n",
    "    #if page.status_code==200:\n",
    "        #return page\n",
    "    #else:\n",
    "        #return \"Error\"\n",
    "\n",
    "import requests\n",
    "\n",
    "def search_walmart(win):\n",
    "    url = \"https://www.walmart.com/ip/\" + win\n",
    "    print(url)\n",
    "    page = requests.get(url,cookies=cookie,headers=header)  # Assuming you've set the appropriate headers\n",
    "    if page.status_code == 200:\n",
    "        return page\n",
    "    else:\n",
    "        return \"Error\"\n"
   ]
  },
  {
   "cell_type": "code",
   "execution_count": null,
   "id": "1597fd96",
   "metadata": {},
   "outputs": [],
   "source": [
    "def Searchreviews(review_link):\n",
    "url=\"https://www.walmart.com\"+review_link\n",
    "print(url)\n",
    "page=requests.get(url,cookies=cookie,headers=header)\n",
    "if page.status_code==200:\n",
    "return page\n",
    "else:\n",
    "return \"Error\""
   ]
  },
  {
   "cell_type": "code",
   "execution_count": null,
   "id": "ab41286e",
   "metadata": {},
   "outputs": [],
   "source": [
    "# #product_names=[]\n",
    "# #response=getWalmartSearch('nike+shoes+men')\n",
    "# #soup=BeautifulSoup(response.content)\n",
    "# #for i in soup.findAll(\"span\",{'class':'a-size-base-plus a-color-base a-text-normal'}):\n",
    "#     #product_names.append(i.text)\n",
    "# product_names = []\n",
    "# response = getWalmartSearch('Android+mobiles')\n",
    "# soup = BeautifulSoup(response.content)\n",
    "# for i in soup.findAll(\"span\", {'class': 'w_iUH7'}):\n",
    "#     product_names.append(i.text)\n",
    "\n",
    "\n",
    "product_names = []\n",
    "response = getWalmartSearch('Android Mobiles')\n",
    "soup = BeautifulSoup(response.content, 'html.parser')\n",
    "\n",
    "for i in soup.findAll(\"div\", {'class': 'absolute w-100 h-100 z-1 hide-sibling-opacity'}):\n",
    "    product_names.append(i.text.strip())\n",
    "\n",
    "print(product_names)\n",
    "\n",
    "\n"
   ]
  },
  {
   "cell_type": "code",
   "execution_count": null,
   "id": "4bd759f9",
   "metadata": {},
   "outputs": [],
   "source": [
    "product_names\n"
   ]
  },
  {
   "cell_type": "code",
   "execution_count": null,
   "id": "0fb9aed8",
   "metadata": {},
   "outputs": [],
   "source": [
    "data_asin=[]\n",
    "response=getWalmartSearch('Android+mobiles')\n",
    "soup=BeautifulSoup(response.content)\n",
    "for a in soup.findAll(\"div\",{'class':\"sg-col-4-of-24 sg-col-4-of-12 sg-col-4-of-36 s-result-item s-asin sg-col-4-of-28 sg-col-4-of-16 sg-\"}):\n",
    "    data_asin.append(a['data-asin'])"
   ]
  },
  {
   "cell_type": "code",
   "execution_count": null,
   "id": "ea432630",
   "metadata": {},
   "outputs": [],
   "source": [
    "link=[]\n",
    "for b in range(len(data_asin)):\n",
    "    response=Searchasin(data_asin[i])\n",
    "soup=BeautifulSoup(response.content)\n",
    "for b in soup.findAll(\"a\",{'data-hook':\"see-all-reviews-link-foot\"}):\n",
    "    link.append(b['href'])"
   ]
  },
  {
   "cell_type": "code",
   "execution_count": null,
   "id": "c172ee8d",
   "metadata": {},
   "outputs": [],
   "source": [
    "reviews=[]\n",
    "for j in range(len(link)):\n",
    "    for k in range(100):\n",
    "        response=Searchreviews(link[j]+'&pageNumber='+str(k))\n",
    "    soup=BeautifulSoup(response.content)\n",
    "    for i in soup.findAll(\"span\",{'data-hook':\"review-body\"}):\n",
    "        reviews.append(i.text)"
   ]
  },
  {
   "cell_type": "code",
   "execution_count": null,
   "id": "e963c309",
   "metadata": {},
   "outputs": [],
   "source": [
    "rev={'reviews':reviews}\n",
    "review_data=pd.DataFrame.from_dict(rev)\n",
    "pd.set_option('max_colwidth',800)\n",
    "review_data.head(5)"
   ]
  },
  {
   "cell_type": "code",
   "execution_count": null,
   "id": "876fd316",
   "metadata": {},
   "outputs": [],
   "source": []
  }
 ],
 "metadata": {
  "kernelspec": {
   "display_name": "Python 3 (ipykernel)",
   "language": "python",
   "name": "python3"
  },
  "language_info": {
   "codemirror_mode": {
    "name": "ipython",
    "version": 3
   },
   "file_extension": ".py",
   "mimetype": "text/x-python",
   "name": "python",
   "nbconvert_exporter": "python",
   "pygments_lexer": "ipython3",
   "version": "3.9.12"
  }
 },
 "nbformat": 4,
 "nbformat_minor": 5
}
